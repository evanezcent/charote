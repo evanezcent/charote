{
 "cells": [
  {
   "cell_type": "markdown",
   "metadata": {},
   "source": [
    "## Declaration\n",
    "_put your word in variable_ `kata`"
   ]
  },
  {
   "cell_type": "code",
   "execution_count": 1,
   "metadata": {},
   "outputs": [],
   "source": [
    "chrKata = []\n",
    "kata = \"UNVV TVZNAN PGS XNYV VAV, LNHQNU LNN QNEV CNQN XRYNZNNA VAV YVAX ALN : uggc://ovg.yl/EbnqGbGCZbq2_Svk\"\n",
    "\n",
    "idx = 0\n",
    "for i in kata:\n",
    "    chrKata.append(ord(i))\n",
    "    idx += 1"
   ]
  },
  {
   "cell_type": "markdown",
   "metadata": {},
   "source": [
    "_Function to **rotate** the Character_"
   ]
  },
  {
   "cell_type": "code",
   "execution_count": 2,
   "metadata": {},
   "outputs": [],
   "source": [
    "def rotateChr(huruf, rotx):\n",
    "    hasil = huruf\n",
    "    if (65 <= huruf and huruf <= 90):\n",
    "        hasil = huruf + rotx\n",
    "        if (hasil > 90):\n",
    "            hasil = 64 + (rotx - (90-huruf))\n",
    "\n",
    "    elif (97 <= huruf and huruf <= 122):\n",
    "        hasil = huruf + rotx\n",
    "        if (hasil > 122):\n",
    "            hasil = 96 + (rotx - (122 - huruf))\n",
    "    \n",
    "    return hasil"
   ]
  },
  {
   "cell_type": "markdown",
   "metadata": {},
   "source": [
    "## Result\n",
    "this is the result of rotation from 0 - 26 according to the number of letters of the alphabet"
   ]
  },
  {
   "cell_type": "code",
   "execution_count": 3,
   "metadata": {},
   "outputs": [
    {
     "name": "stdout",
     "output_type": "stream",
     "text": [
      "The Result of 0 rotation is :\n",
      "UNVV TVZNAN PGS XNYV VAV, LNHQNU LNN QNEV CNQN XRYNZNNA VAV YVAX ALN : uggc://ovg.yl/EbnqGbGCZbq2_Svk\n",
      "\n",
      "The Result of 1 rotation is :\n",
      "VOWW UWAOBO QHT YOZW WBW, MOIROV MOO ROFW DORO YSZOAOOB WBW ZWBY BMO : vhhd://pwh.zm/FcorHcHDAcr2_Twl\n",
      "\n",
      "The Result of 2 rotation is :\n",
      "WPXX VXBPCP RIU ZPAX XCX, NPJSPW NPP SPGX EPSP ZTAPBPPC XCX AXCZ CNP : wiie://qxi.an/GdpsIdIEBds2_Uxm\n",
      "\n",
      "The Result of 3 rotation is :\n",
      "XQYY WYCQDQ SJV AQBY YDY, OQKTQX OQQ TQHY FQTQ AUBQCQQD YDY BYDA DOQ : xjjf://ryj.bo/HeqtJeJFCet2_Vyn\n",
      "\n",
      "The Result of 4 rotation is :\n",
      "YRZZ XZDRER TKW BRCZ ZEZ, PRLURY PRR URIZ GRUR BVCRDRRE ZEZ CZEB EPR : ykkg://szk.cp/IfruKfKGDfu2_Wzo\n",
      "\n",
      "The Result of 5 rotation is :\n",
      "ZSAA YAESFS ULX CSDA AFA, QSMVSZ QSS VSJA HSVS CWDSESSF AFA DAFC FQS : zllh://tal.dq/JgsvLgLHEgv2_Xap\n",
      "\n",
      "The Result of 6 rotation is :\n",
      "ATBB ZBFTGT VMY DTEB BGB, RTNWTA RTT WTKB ITWT DXETFTTG BGB EBGD GRT : ammi://ubm.er/KhtwMhMIFhw2_Ybq\n",
      "\n",
      "The Result of 7 rotation is :\n",
      "BUCC ACGUHU WNZ EUFC CHC, SUOXUB SUU XULC JUXU EYFUGUUH CHC FCHE HSU : bnnj://vcn.fs/LiuxNiNJGix2_Zcr\n",
      "\n",
      "The Result of 8 rotation is :\n",
      "CVDD BDHVIV XOA FVGD DID, TVPYVC TVV YVMD KVYV FZGVHVVI DID GDIF ITV : cook://wdo.gt/MjvyOjOKHjy2_Ads\n",
      "\n",
      "The Result of 9 rotation is :\n",
      "DWEE CEIWJW YPB GWHE EJE, UWQZWD UWW ZWNE LWZW GAHWIWWJ EJE HEJG JUW : dppl://xep.hu/NkwzPkPLIkz2_Bet\n",
      "\n",
      "The Result of 10 rotation is :\n",
      "EXFF DFJXKX ZQC HXIF FKF, VXRAXE VXX AXOF MXAX HBIXJXXK FKF IFKH KVX : eqqm://yfq.iv/OlxaQlQMJla2_Cfu\n",
      "\n",
      "The Result of 11 rotation is :\n",
      "FYGG EGKYLY ARD IYJG GLG, WYSBYF WYY BYPG NYBY ICJYKYYL GLG JGLI LWY : frrn://zgr.jw/PmybRmRNKmb2_Dgv\n",
      "\n",
      "The Result of 12 rotation is :\n",
      "GZHH FHLZMZ BSE JZKH HMH, XZTCZG XZZ CZQH OZCZ JDKZLZZM HMH KHMJ MXZ : gsso://ahs.kx/QnzcSnSOLnc2_Ehw\n",
      "\n",
      "The Result of 13 rotation is :\n",
      "HAII GIMANA CTF KALI INI, YAUDAH YAA DARI PADA KELAMAAN INI LINK NYA : http://bit.ly/RoadToTPMod2_Fix\n",
      "\n",
      "The Result of 14 rotation is :\n",
      "IBJJ HJNBOB DUG LBMJ JOJ, ZBVEBI ZBB EBSJ QBEB LFMBNBBO JOJ MJOL OZB : iuuq://cju.mz/SpbeUpUQNpe2_Gjy\n",
      "\n",
      "The Result of 15 rotation is :\n",
      "JCKK IKOCPC EVH MCNK KPK, ACWFCJ ACC FCTK RCFC MGNCOCCP KPK NKPM PAC : jvvr://dkv.na/TqcfVqVROqf2_Hkz\n",
      "\n",
      "The Result of 16 rotation is :\n",
      "KDLL JLPDQD FWI NDOL LQL, BDXGDK BDD GDUL SDGD NHODPDDQ LQL OLQN QBD : kwws://elw.ob/UrdgWrWSPrg2_Ila\n",
      "\n",
      "The Result of 17 rotation is :\n",
      "LEMM KMQERE GXJ OEPM MRM, CEYHEL CEE HEVM TEHE OIPEQEER MRM PMRO RCE : lxxt://fmx.pc/VsehXsXTQsh2_Jmb\n",
      "\n",
      "The Result of 18 rotation is :\n",
      "MFNN LNRFSF HYK PFQN NSN, DFZIFM DFF IFWN UFIF PJQFRFFS NSN QNSP SDF : myyu://gny.qd/WtfiYtYURti2_Knc\n",
      "\n",
      "The Result of 19 rotation is :\n",
      "NGOO MOSGTG IZL QGRO OTO, EGAJGN EGG JGXO VGJG QKRGSGGT OTO ROTQ TEG : nzzv://hoz.re/XugjZuZVSuj2_Lod\n",
      "\n",
      "The Result of 20 rotation is :\n",
      "OHPP NPTHUH JAM RHSP PUP, FHBKHO FHH KHYP WHKH RLSHTHHU PUP SPUR UFH : oaaw://ipa.sf/YvhkAvAWTvk2_Mpe\n",
      "\n",
      "The Result of 21 rotation is :\n",
      "PIQQ OQUIVI KBN SITQ QVQ, GICLIP GII LIZQ XILI SMTIUIIV QVQ TQVS VGI : pbbx://jqb.tg/ZwilBwBXUwl2_Nqf\n",
      "\n",
      "The Result of 22 rotation is :\n",
      "QJRR PRVJWJ LCO TJUR RWR, HJDMJQ HJJ MJAR YJMJ TNUJVJJW RWR URWT WHJ : qccy://krc.uh/AxjmCxCYVxm2_Org\n",
      "\n",
      "The Result of 23 rotation is :\n",
      "RKSS QSWKXK MDP UKVS SXS, IKENKR IKK NKBS ZKNK UOVKWKKX SXS VSXU XIK : rddz://lsd.vi/ByknDyDZWyn2_Psh\n",
      "\n",
      "The Result of 24 rotation is :\n",
      "SLTT RTXLYL NEQ VLWT TYT, JLFOLS JLL OLCT ALOL VPWLXLLY TYT WTYV YJL : seea://mte.wj/CzloEzEAXzo2_Qti\n",
      "\n",
      "The Result of 25 rotation is :\n",
      "TMUU SUYMZM OFR WMXU UZU, KMGPMT KMM PMDU BMPM WQXMYMMZ UZU XUZW ZKM : tffb://nuf.xk/DampFaFBYap2_Ruj\n",
      "\n",
      "The Result of 26 rotation is :\n",
      "UNVV TVZNAN PGS XNYV VAV, LNHQNU LNN QNEV CNQN XRYNZNNA VAV YVAX ALN : uggc://ovg.yl/EbnqGbGCZbq2_Svk\n",
      "\n"
     ]
    }
   ],
   "source": [
    "i = 0\n",
    "while i <= 26 :\n",
    "    \n",
    "    index = 0\n",
    "    result = []\n",
    "    \n",
    "    print(\"The Result of\",i, \"rotation is :\")\n",
    "    \n",
    "    while index < len(chrKata):\n",
    "        \n",
    "        result.append(rotateChr(chrKata[index],i))\n",
    "        print(chr(result[index]), end=\"\")\n",
    "        index += 1\n",
    "        \n",
    "    print()    \n",
    "    print()\n",
    "    i += 1"
   ]
  }
 ],
 "metadata": {
  "kernelspec": {
   "display_name": "Python 3",
   "language": "python",
   "name": "python3"
  },
  "language_info": {
   "codemirror_mode": {
    "name": "ipython",
    "version": 3
   },
   "file_extension": ".py",
   "mimetype": "text/x-python",
   "name": "python",
   "nbconvert_exporter": "python",
   "pygments_lexer": "ipython3",
   "version": "3.7.1"
  }
 },
 "nbformat": 4,
 "nbformat_minor": 2
}
